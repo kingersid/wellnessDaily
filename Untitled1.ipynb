{
 "cells": [
  {
   "cell_type": "code",
   "execution_count": 7,
   "id": "227a69fb-4830-442a-8fe0-6e9b1772a943",
   "metadata": {
    "tags": []
   },
   "outputs": [],
   "source": [
    "from sqlalchemy import create_engine, Column, Integer, String,inspect\n",
    "from sqlalchemy.ext.declarative import declarative_base\n",
    "from sqlalchemy.orm import sessionmaker\n"
   ]
  },
  {
   "cell_type": "code",
   "execution_count": 2,
   "id": "ff270dc8-d98a-4117-a913-041cc749df37",
   "metadata": {
    "tags": []
   },
   "outputs": [],
   "source": [
    "engine = create_engine('sqlite:///blog1.db')\n"
   ]
  },
  {
   "cell_type": "code",
   "execution_count": 3,
   "id": "16a16c7a-8a68-4a57-9af5-b6e36ad4326b",
   "metadata": {
    "tags": []
   },
   "outputs": [],
   "source": [
    "Session = sessionmaker(bind=engine)\n",
    "session = Session()\n"
   ]
  },
  {
   "cell_type": "code",
   "execution_count": 11,
   "id": "15087139-6b0c-4dce-b1a5-baa872a3c5a8",
   "metadata": {
    "tags": []
   },
   "outputs": [
    {
     "ename": "NameError",
     "evalue": "name 'postL' is not defined",
     "output_type": "error",
     "traceback": [
      "\u001b[1;31m---------------------------------------------------------------------------\u001b[0m",
      "\u001b[1;31mNameError\u001b[0m                                 Traceback (most recent call last)",
      "Cell \u001b[1;32mIn[11], line 1\u001b[0m\n\u001b[1;32m----> 1\u001b[0m rows \u001b[38;5;241m=\u001b[39m session\u001b[38;5;241m.\u001b[39mquery(\u001b[43mpostL\u001b[49m)\u001b[38;5;241m.\u001b[39mall()\n\u001b[0;32m      2\u001b[0m \u001b[38;5;28;01mfor\u001b[39;00m row \u001b[38;5;129;01min\u001b[39;00m rows:\n\u001b[0;32m      3\u001b[0m     \u001b[38;5;28mprint\u001b[39m(row)\n",
      "\u001b[1;31mNameError\u001b[0m: name 'postL' is not defined"
     ]
    }
   ],
   "source": [
    "rows = session.query(postL).all()\n",
    "for row in rows:\n",
    "    print(row)\n"
   ]
  },
  {
   "cell_type": "code",
   "execution_count": 8,
   "id": "df4164bc-de34-45f4-a362-5cf87e5ec9f9",
   "metadata": {
    "tags": []
   },
   "outputs": [],
   "source": [
    "inspector = inspect(engine)"
   ]
  },
  {
   "cell_type": "code",
   "execution_count": 9,
   "id": "e972790a-bd11-41be-a7ef-7fbb285e3461",
   "metadata": {
    "tags": []
   },
   "outputs": [],
   "source": [
    "table_names = inspector.get_table_names()"
   ]
  },
  {
   "cell_type": "code",
   "execution_count": 10,
   "id": "3e463ad7-53fe-4367-8c2f-d787ecde0166",
   "metadata": {
    "tags": []
   },
   "outputs": [
    {
     "name": "stdout",
     "output_type": "stream",
     "text": [
      "post\n",
      "postL\n"
     ]
    }
   ],
   "source": [
    "for table_name in table_names:\n",
    "    print(table_name)"
   ]
  },
  {
   "cell_type": "code",
   "execution_count": 12,
   "id": "a5cf4ec4-6343-41f2-8317-2a6c72c3b234",
   "metadata": {
    "tags": []
   },
   "outputs": [],
   "source": [
    "import sqlite3"
   ]
  },
  {
   "cell_type": "code",
   "execution_count": 14,
   "id": "050bd549-fa71-46ca-a077-e334933279e8",
   "metadata": {
    "tags": []
   },
   "outputs": [],
   "source": [
    "conn = sqlite3.connect('blog1.db')\n",
    "cursor = conn.cursor()"
   ]
  },
  {
   "cell_type": "code",
   "execution_count": 15,
   "id": "d6d573d9-54d1-4e0f-af4d-aca36f71528c",
   "metadata": {
    "tags": []
   },
   "outputs": [
    {
     "name": "stdout",
     "output_type": "stream",
     "text": [
      "(1, 'Combining Cardio with Weight Training for Effective Fat Loss: Pros and Cons', \"**Introduction:** In the pursuit of fat loss, individuals often debate the effectiveness of incorporating cardiovascular exercise (cardio) alongside weight training sessions. While both approaches offer unique benefits, understanding the pros and cons of combining cardio with weight training can help you make informed decisions about optimizing your fat loss journey. This scientific blog post explores the advantages and potential drawbacks of integrating cardio exercises into your weight training routine.\\r\\n\\r\\n*Pros of Combining Cardio with Weight Training for Fat Loss:*\\r\\n\\r\\n1.  Enhanced Calorie Expenditure: Incorporating cardio exercises, such as running, cycling, or high-intensity interval training (HIIT), during or after weight training can significantly increase your calorie expenditure. Engaging in cardio activities elevates your heart rate, stimulating greater energy expenditure and contributing to a calorie deficit, which is essential for fat loss.\\r\\n    \\r\\n2.  Improved Cardiovascular Fitness: Cardiovascular exercises enhance your heart and lung function, improving overall cardiovascular fitness. Combining cardio with weight training promotes a well-rounded fitness regimen, improving your stamina, endurance, and cardiovascular health, ultimately supporting better performance during workouts.\\r\\n    \\r\\n3.  Accelerated Fat Burning: Engaging in cardio exercises alongside weight training sessions can enhance fat burning. Cardiovascular activities primarily rely on stored fat as fuel, especially during longer-duration exercises. By incorporating cardio, you can optimize fat utilization and accelerate the fat loss process.\\r\\n    \\r\\n4.  Diverse Training Stimulus: Integrating cardio exercises diversifies your training stimulus and challenges your body in different ways. This variety helps prevent plateaus and promotes overall fitness gains. Combining cardio and weight training exercises can lead to improved muscle strength, endurance, and body composition changes.\\r\\n    \\r\\n\\r\\n*Cons of Combining Cardio with Weight Training for Fat Loss:*\\r\\n\\r\\n1.  Increased Risk of Overtraining: Intense cardio sessions, especially when coupled with intense weight training, can increase the risk of overtraining. Overtraining may result in diminished performance, muscle loss, hormonal imbalances, and an increased susceptibility to injuries. Proper planning, recovery periods, and monitoring your body's response are crucial to prevent overtraining.\\r\\n    \\r\\n2.  Potential Muscle Loss: Performing excessive cardio without adequate nutrition and recovery may lead to muscle loss. Cardio exercises primarily target endurance and cardiovascular systems rather than muscle building. To mitigate this risk, ensure you maintain a balanced diet, prioritize strength training, and incorporate appropriate rest days into your routine.\\r\\n    \\r\\n3.  Time Constraints: Combining cardio and weight training may require a significant time commitment, particularly if you perform both types of exercises within the same session. Balancing the duration and intensity of each workout becomes crucial to avoid excessive fatigue and potential burnout. Alternatively, splitting cardio and weight training into separate sessions might be more feasible for some individuals.\\r\\n    \\r\\n4.  Individual Variations: Every individual's response to combined cardio and weight training sessions can vary. Factors such as fitness level, genetics, metabolism, and personal preferences play significant roles. Experimentation and self-awareness are key to finding the optimal balance that works for your body and goals.\\r\\n    \\r\\n\\r\\n**Conclusion:** Incorporating cardio exercises alongside weight training sessions can be a valuable strategy for fat loss, offering several advantages such as increased calorie expenditure, improved cardiovascular fitness, enhanced fat burning, and diversified training stimulus. However, it is important to consider potential drawbacks such as the risk of overtraining, potential muscle loss, time constraints, and individual variations. \\r\\n\\r\\n> Balancing intensity, duration, nutrition, and recovery becomes crucial\\r\\n> when combining these two modalities.\", 'Siddharth Kinger')\n"
     ]
    }
   ],
   "source": [
    "cursor.execute('SELECT * FROM postL')\n",
    "rows = cursor.fetchall()\n",
    "for row in rows:\n",
    "    print(row)"
   ]
  },
  {
   "cell_type": "code",
   "execution_count": null,
   "id": "ae71a6e0-164b-4b26-a684-138be4b65e0d",
   "metadata": {},
   "outputs": [],
   "source": []
  }
 ],
 "metadata": {
  "kernelspec": {
   "display_name": "Python 3 (ipykernel)",
   "language": "python",
   "name": "python3"
  },
  "language_info": {
   "codemirror_mode": {
    "name": "ipython",
    "version": 3
   },
   "file_extension": ".py",
   "mimetype": "text/x-python",
   "name": "python",
   "nbconvert_exporter": "python",
   "pygments_lexer": "ipython3",
   "version": "3.11.2"
  }
 },
 "nbformat": 4,
 "nbformat_minor": 5
}
